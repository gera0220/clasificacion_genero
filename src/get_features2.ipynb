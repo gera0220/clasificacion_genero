{
 "cells": [
  {
   "cell_type": "code",
   "execution_count": 1,
   "metadata": {},
   "outputs": [],
   "source": [
    "# Importar librerías\n",
    "from scipy.io.wavfile import read\n",
    "import numpy as np\n",
    "from python_speech_features.base import mfcc\n",
    "import os\n",
    "import glob"
   ]
  },
  {
   "cell_type": "code",
   "execution_count": null,
   "metadata": {},
   "outputs": [],
   "source": [
    "# Cambio de directorio\n",
    "os.chdir('../data/raw')"
   ]
  },
  {
   "cell_type": "code",
   "execution_count": 17,
   "metadata": {},
   "outputs": [],
   "source": [
    "os.chdir('../')"
   ]
  },
  {
   "cell_type": "code",
   "execution_count": 3,
   "metadata": {},
   "outputs": [],
   "source": [
    "# Guardar lista de folders\n",
    "folder_files = os.listdir()\n",
    "\n",
    "# Variables por conveniencia para el for\n",
    "num_ceps = 25\n",
    "full_features = np.matrix([1] * (num_ceps + 2))\n",
    "k = 0"
   ]
  },
  {
   "cell_type": "code",
   "execution_count": null,
   "metadata": {},
   "outputs": [],
   "source": [
    "for folder in folder_files:\n",
    "    os.chdir(folder)\n",
    "    target = 1 if 'male' in folder else 0\n",
    "    # Listar sólo archivos .wav\n",
    "    audio_files = [audio for audio in glob.glob('*.wav')]\n",
    "    for file in audio_files:\n",
    "        # Leer archivo del folder i\n",
    "        fs, audio = read(file)\n",
    "        audio = audio[0:fs]\n",
    "\n",
    "        # Vamos a obtener sus coeficientes.\n",
    "        # Parámetros que recibe:\n",
    "        #   - signal: la señal de audio.\n",
    "        #   - winlen: tamaño de la ventana en segundos.\n",
    "        #   - winstep: tamaño del avance (se utiliza para el prcentaje de muestras que habrá entre ventanas). En este caso se tiene un overlap de 50%.\n",
    "        #   - numcep: número de coeficientes de Mel.        coeffs.shape\n",
    "        #   - nfilt: número de filtros del banco.\n",
    "        coeffs = mfcc(signal = audio, samplerate = fs, winlen = 0.030, winstep = 0.015, numcep = num_ceps, nfilt = 30, nfft = 1500)\n",
    "\n",
    "        # Matriz de 1's (male) o 0's (female)\n",
    "        classes = np.matrix([target]*coeffs.shape[0])\n",
    "        print(classes.T.shape)\n",
    "\n",
    "        index = np.matrix([k] * coeffs.shape[0])\n",
    "\n",
    "        print(index.T.shape)\n",
    "\n",
    "        # Combinar 'coeffs' y 'classes'\n",
    "        features = np.hstack([coeffs, classes.T])\n",
    "        print(features.shape)\n",
    "        features = np.hstack([index.T, features])\n",
    "\n",
    "        # Combinar features actuales con anteriores y redefinir fake_matrix\n",
    "        full_features = np.vstack([full_features, features])\n",
    "    os.chdir('../')"
   ]
  },
  {
   "cell_type": "code",
   "execution_count": 34,
   "metadata": {},
   "outputs": [],
   "source": [
    "# Guardar full_features excepto los 1's de la primera fila\n",
    "np.savetxt('../features/full_features.txt', full_features[1:, ], delimiter = ',', fmt = '%f')"
   ]
  }
 ],
 "metadata": {
  "interpreter": {
   "hash": "18d2418aa1d2b5c105fd585723374dad3a40f12a34236436609b65539ef5f8cf"
  },
  "kernelspec": {
   "display_name": "Python 3.7.11 ('viper')",
   "language": "python",
   "name": "python3"
  },
  "language_info": {
   "codemirror_mode": {
    "name": "ipython",
    "version": 3
   },
   "file_extension": ".py",
   "mimetype": "text/x-python",
   "name": "python",
   "nbconvert_exporter": "python",
   "pygments_lexer": "ipython3",
   "version": "3.7.10"
  },
  "orig_nbformat": 4
 },
 "nbformat": 4,
 "nbformat_minor": 2
}
